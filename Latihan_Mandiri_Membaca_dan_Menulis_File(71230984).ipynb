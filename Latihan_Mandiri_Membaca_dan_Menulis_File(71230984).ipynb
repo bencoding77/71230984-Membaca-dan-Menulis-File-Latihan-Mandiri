{
  "nbformat": 4,
  "nbformat_minor": 0,
  "metadata": {
    "colab": {
      "provenance": []
    },
    "kernelspec": {
      "name": "python3",
      "display_name": "Python 3"
    },
    "language_info": {
      "name": "python"
    }
  },
  "cells": [
    {
      "cell_type": "markdown",
      "source": [
        "Soal 1"
      ],
      "metadata": {
        "id": "s6dmoawor0pV"
      }
    },
    {
      "cell_type": "code",
      "execution_count": null,
      "metadata": {
        "id": "3eGoey1Urn4b"
      },
      "outputs": [],
      "source": [
        "handle1 = open(\"satu.txt\").readlines()\n",
        "handle2 = open(\"dua.txt\").readlines()\n",
        "lines = max(len(handle1), len(handle2))\n",
        "for i in range(lines):\n",
        "    if i < len(handle1) and i < len(handle2):\n",
        "        if handle1[i] == handle2[i]:\n",
        "            print(f\"Baris ke {i+1} sama pada kedua file\")\n",
        "        else:\n",
        "            print(f\"Baris ke {i+1} tidak sama.\")\n",
        "            print(f\"Perbedaannya ada pada {handle1[i]} di file pertama dan {handle2[i]} di file kedua.\")"
      ]
    },
    {
      "cell_type": "markdown",
      "source": [
        "Soal 2"
      ],
      "metadata": {
        "id": "rCr_Gz-Wr3ES"
      }
    },
    {
      "cell_type": "code",
      "source": [
        "handle = open(\"soaljawab.txt\", \"r\").readlines()\n",
        "for line in handle:\n",
        "    soal, jawaban = line.split(\"||\")\n",
        "    soal = soal.strip()\n",
        "\n",
        "    print(\"------Fun Question!------\\n\")\n",
        "    print(soal)\n",
        "    jawab = input(\"Jawab: \").lower().strip()\n",
        "    if jawab == jawaban.lower().strip():\n",
        "        print(\"Jawaban anda benar!\")\n",
        "    else:\n",
        "        print(f\"Jawaban anda salah! Jawaban yang benar adalah : {jawaban}\")"
      ],
      "metadata": {
        "id": "poS96zzMr4Bo"
      },
      "execution_count": null,
      "outputs": []
    }
  ]
}